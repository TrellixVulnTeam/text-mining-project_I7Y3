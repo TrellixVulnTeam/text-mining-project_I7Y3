{
 "cells": [
  {
   "cell_type": "code",
   "execution_count": 4,
   "metadata": {},
   "outputs": [],
   "source": [
    "import pandas as pd\n",
    "import os"
   ]
  },
  {
   "cell_type": "markdown",
   "metadata": {},
   "source": [
    "Download the data from:\n",
    "- [submissions and scripts to reproduce the results published in the metrics task paper](http://ufallab.ms.mff.cuni.cz/~bojar/wmt18-metrics-task-package.tgz)\n",
    "\n",
    "Download this file and put it in the input folder:\n",
    "- [wmt18-submitted-data-v1.0.1.tgz](http://data.statmt.org/wmt18/translation-task/wmt18-submitted-data-v1.0.1.tgz)"
   ]
  },
  {
   "cell_type": "code",
   "execution_count": 5,
   "metadata": {},
   "outputs": [],
   "source": [
    "SRC_PREFIX = 'wmt18-metrics-task-package/input/wmt18-submitted-data/txt/sources/'\n",
    "REF_PREFIX = 'wmt18-metrics-task-package/input/wmt18-submitted-data/txt/references/'\n",
    "SYS_PREFIX = 'wmt18-metrics-task-package/input/wmt18-submitted-data/txt/system-outputs/newstest2018/'"
   ]
  },
  {
   "cell_type": "markdown",
   "metadata": {},
   "source": [
    "### EN-DE corpus:"
   ]
  },
  {
   "cell_type": "code",
   "execution_count": 6,
   "metadata": {},
   "outputs": [],
   "source": [
    "sources = [line.strip() for line in open(SRC_PREFIX+'newstest2018-ende-src.en')]"
   ]
  },
  {
   "cell_type": "code",
   "execution_count": 7,
   "metadata": {},
   "outputs": [],
   "source": [
    "references = [line.strip() for line in open(REF_PREFIX+'newstest2018-ende-ref.de')]"
   ]
  },
  {
   "cell_type": "markdown",
   "metadata": {},
   "source": [
    "### Systems"
   ]
  },
  {
   "cell_type": "code",
   "execution_count": 8,
   "metadata": {},
   "outputs": [],
   "source": [
    "sys_outputs_files = os.listdir(SYS_PREFIX+'en-de/')\n",
    "systems = ['.'.join(submission_name.split('.')[1:-1]) for submission_name in sys_outputs_files]"
   ]
  },
  {
   "cell_type": "code",
   "execution_count": 9,
   "metadata": {},
   "outputs": [
    {
     "data": {
      "text/plain": [
       "['RWTH-UNSUPER.5484',\n",
       " 'online-G.0',\n",
       " 'LMU-unsup.5651',\n",
       " 'online-F.0',\n",
       " 'Microsoft-Marian.5691',\n",
       " 'online-Z.0',\n",
       " 'LMU-nmt.5741',\n",
       " 'online-Y.0',\n",
       " 'MMT-production-system.5594',\n",
       " 'uedin.5770',\n",
       " 'JHU.5703',\n",
       " 'online-A.0',\n",
       " 'UCAM.5585',\n",
       " 'NTT.5667',\n",
       " 'online-B.0',\n",
       " 'KIT.5486']"
      ]
     },
     "execution_count": 9,
     "metadata": {},
     "output_type": "execute_result"
    }
   ],
   "source": [
    "systems"
   ]
  },
  {
   "cell_type": "code",
   "execution_count": 10,
   "metadata": {},
   "outputs": [],
   "source": [
    "def get_system_outputs(lp):\n",
    "    sys_outputs_files = os.listdir(SYS_PREFIX+f'{lp}/')\n",
    "    systems = ['.'.join(submission_name.split('.')[1:-1]) for submission_name in sys_outputs_files]\n",
    "    system_outputs = {}\n",
    "    for system in sys_outputs_files:\n",
    "        system_name = '.'.join(system.split('.')[1:-1])\n",
    "        system_outputs[system_name] = [\n",
    "            line.strip() for line in open(SYS_PREFIX+f'{lp}/'+system)\n",
    "        ]\n",
    "    return system_outputs"
   ]
  },
  {
   "cell_type": "code",
   "execution_count": 11,
   "metadata": {},
   "outputs": [],
   "source": [
    "en_de_data = pd.DataFrame({'src': sources, 'ref': references, **get_system_outputs('en-de')})"
   ]
  },
  {
   "cell_type": "code",
   "execution_count": 12,
   "metadata": {},
   "outputs": [
    {
     "data": {
      "text/html": [
       "<div>\n",
       "<style scoped>\n",
       "    .dataframe tbody tr th:only-of-type {\n",
       "        vertical-align: middle;\n",
       "    }\n",
       "\n",
       "    .dataframe tbody tr th {\n",
       "        vertical-align: top;\n",
       "    }\n",
       "\n",
       "    .dataframe thead th {\n",
       "        text-align: right;\n",
       "    }\n",
       "</style>\n",
       "<table border=\"1\" class=\"dataframe\">\n",
       "  <thead>\n",
       "    <tr style=\"text-align: right;\">\n",
       "      <th></th>\n",
       "      <th>src</th>\n",
       "      <th>ref</th>\n",
       "      <th>RWTH-UNSUPER.5484</th>\n",
       "      <th>online-G.0</th>\n",
       "      <th>LMU-unsup.5651</th>\n",
       "      <th>online-F.0</th>\n",
       "      <th>Microsoft-Marian.5691</th>\n",
       "      <th>online-Z.0</th>\n",
       "      <th>LMU-nmt.5741</th>\n",
       "      <th>online-Y.0</th>\n",
       "      <th>MMT-production-system.5594</th>\n",
       "      <th>uedin.5770</th>\n",
       "      <th>JHU.5703</th>\n",
       "      <th>online-A.0</th>\n",
       "      <th>UCAM.5585</th>\n",
       "      <th>NTT.5667</th>\n",
       "      <th>online-B.0</th>\n",
       "      <th>KIT.5486</th>\n",
       "    </tr>\n",
       "  </thead>\n",
       "  <tbody>\n",
       "    <tr>\n",
       "      <th>0</th>\n",
       "      <td>Munich 1856: Four maps that will change your v...</td>\n",
       "      <td>München 1856: Vier Karten, die Ihren Blick auf...</td>\n",
       "      <td>München 1856: four maps, dass sich deine Sicht...</td>\n",
       "      <td>München 1856: Vier Karten, dass wird sich ände...</td>\n",
       "      <td>München 1856: Vier Landschaftspunkte zufolge w...</td>\n",
       "      <td>München 1856: Vier Karten, die Ihre Ansicht de...</td>\n",
       "      <td>München 1856: Vier Karten, die Ihren Blick auf...</td>\n",
       "      <td>München 1856: Vier Karten, die den Blick auf d...</td>\n",
       "      <td>München 1856: Vier Karten, die Ihre Sicht der ...</td>\n",
       "      <td>München 1856: Vier Karten, die Ihren Blick auf...</td>\n",
       "      <td>München 1856: Vier Karten, die Ihren Blick auf...</td>\n",
       "      <td>München 1856: Vier Karten, die Ihre Sicht auf ...</td>\n",
       "      <td>München 1856: Vier Karten, die Ihren Blick auf...</td>\n",
       "      <td>München 1856: vier Karten, die ihren Blick auf...</td>\n",
       "      <td>München 1856: Vier Karten, die Ihren Blick auf...</td>\n",
       "      <td>München 1856: Vier Karten, die Ihren Blick auf...</td>\n",
       "      <td>München 1856: Vier Karten, die Ihren Blick auf...</td>\n",
       "      <td>München 1856: Vier Karten, die Ihre Sicht auf ...</td>\n",
       "    </tr>\n",
       "    <tr>\n",
       "      <th>1</th>\n",
       "      <td>A mental asylum, where today young people are ...</td>\n",
       "      <td>Eine Irren-Anstalt, wo sich heute Jugendliche ...</td>\n",
       "      <td>Eine seelische Asyl, wo heute junge Menschen z...</td>\n",
       "      <td>Eine Irrenanstalt, wo heute junge Menschen sin...</td>\n",
       "      <td>Ein Ressort Asyl, wo heute junge Menschen zu g...</td>\n",
       "      <td>Ein Geistesasyl, in dem heute junge Leute gesa...</td>\n",
       "      <td>Ein psychisches Asyl, in dem sich heute Jugend...</td>\n",
       "      <td>Ein psychisches Asyl, in dem sich heute Jugend...</td>\n",
       "      <td>Ein mentales Asyl, wo heute Jugendliche zusamm...</td>\n",
       "      <td>Ein psychisches Asyl, in dem heute junge Mensc...</td>\n",
       "      <td>Ein Irrenhaus, wo sich heute junge Menschen tr...</td>\n",
       "      <td>Ein psychisches Asyl, in dem sich heute junge ...</td>\n",
       "      <td>Ein psychisches Asyl, in dem sich heute junge ...</td>\n",
       "      <td>Ein mentales Asyl, wo sich heute junge Mensche...</td>\n",
       "      <td>Ein psychisches Asyl, in dem sich heute Jugend...</td>\n",
       "      <td>Ein psychisches Asyl, wo sich heute junge Mens...</td>\n",
       "      <td>Eine Irrenanstalt, in der sich heute Jugendlic...</td>\n",
       "      <td>Ein psychisches Asyl, wo sich heute Jugendlich...</td>\n",
       "    </tr>\n",
       "    <tr>\n",
       "      <th>2</th>\n",
       "      <td>A crypt chapel, where they are now digging tun...</td>\n",
       "      <td>Eine Gruftkapelle, wo nun für den S-Bahn-Tunne...</td>\n",
       "      <td>Eine Gruft Kapelle, wo Sie nun Tunnel für die ...</td>\n",
       "      <td>Eine Krypta, die Kapelle, wo Sie heute sind, d...</td>\n",
       "      <td>Eine Krypt-Kapelle, wo sie Tunnelröhren Tunnel...</td>\n",
       "      <td>Eine Kryptakapelle, in der sie jetzt Tunnels f...</td>\n",
       "      <td>Eine Krypta-Kapelle, wo sie jetzt Tunnel für d...</td>\n",
       "      <td>Eine Krypta-Kapelle, in der sie jetzt Tunnel f...</td>\n",
       "      <td>Eine Krypt-Kapelle, in der sie nun Tunnel für ...</td>\n",
       "      <td>Eine Krypta-Kapelle, wo sie nun Tunnel für die...</td>\n",
       "      <td>Eine Krypta-Kapelle, wo sie jetzt Tunnel für d...</td>\n",
       "      <td>Eine Krypta-Kapelle, wo sie jetzt Tunnel für d...</td>\n",
       "      <td>Eine Kryptokapelle, in der sie jetzt Tunnel fü...</td>\n",
       "      <td>Eine Krypta Kapelle, wo Sie jetzt Graben Tunne...</td>\n",
       "      <td>Eine Krypta-Kapelle, in der sie jetzt Tunnel f...</td>\n",
       "      <td>Eine Krypta-Kapelle, wo sie jetzt Tunnel für d...</td>\n",
       "      <td>Eine Kryptenkapelle, in der jetzt Tunnel für d...</td>\n",
       "      <td>Eine Krypta-Kapelle, in der sie jetzt Tunnel f...</td>\n",
       "    </tr>\n",
       "    <tr>\n",
       "      <th>3</th>\n",
       "      <td>Allotment holders cultivate the soil of former...</td>\n",
       "      <td>Kleingärtner bewirtschaften den einstigen Grun...</td>\n",
       "      <td>Parzelle Rück pflegen den Boden der ehemaligen...</td>\n",
       "      <td>Zuteilung die Inhaber pflegen den Boden des eh...</td>\n",
       "      <td>Allotungsvolle Versicherten pflegen die Pflanz...</td>\n",
       "      <td>Zuteilungshalter kultivieren den Boden von ehe...</td>\n",
       "      <td>Zuteilungsbesitzer pflegen den Boden ehemalige...</td>\n",
       "      <td>Kleingärtner bewirtschaften den Boden ehemalig...</td>\n",
       "      <td>Kleinaktionäre pflegen den Boden der ehemalige...</td>\n",
       "      <td>Allotmentinhaber kultivieren den Boden ehemali...</td>\n",
       "      <td>Die Zuteilungsinhaber bewirtschaften den Boden...</td>\n",
       "      <td>Almosenhalter pflegen den Boden früherer Bauern.</td>\n",
       "      <td>Anlieger pflegen den Boden ehemaliger Bauern.</td>\n",
       "      <td>Zuteilungs Inhaber kultivieren den Boden der e...</td>\n",
       "      <td>Zuteilungsbesitzer bewirtschaften den Boden eh...</td>\n",
       "      <td>Zuweisungsberechtigte bewirtschaften den Boden...</td>\n",
       "      <td>Kleingärtner kultivieren den Boden ehemaliger ...</td>\n",
       "      <td>Zuteilungsinhaber bewirtschaften den Boden ehe...</td>\n",
       "    </tr>\n",
       "    <tr>\n",
       "      <th>4</th>\n",
       "      <td>The oldest official map of Munich brings capti...</td>\n",
       "      <td>Die älteste offizielle Karte Münchens fördert ...</td>\n",
       "      <td>Die älteste offizielle Landkarte des Münchner ...</td>\n",
       "      <td>Das älteste offizielle Stadtplan von München, ...</td>\n",
       "      <td>Die älteste offizielle Landkarte von München b...</td>\n",
       "      <td>Die älteste offizielle Karte von München holt ...</td>\n",
       "      <td>Die älteste offizielle Karte Münchens bringt f...</td>\n",
       "      <td>Die älteste offizielle Karte Münchens bringt f...</td>\n",
       "      <td>Die älteste offizielle Landkarte von München b...</td>\n",
       "      <td>Die älteste offizielle Karte Münchens bringt s...</td>\n",
       "      <td>Die älteste offizielle Münchner Landkarte brin...</td>\n",
       "      <td>Die älteste offizielle Karte Münchens bringt f...</td>\n",
       "      <td>Die älteste offizielle Karte Münchens bringt f...</td>\n",
       "      <td>Die älteste Offizielle Karte von München bring...</td>\n",
       "      <td>Die älteste offizielle Karte Münchens bringt f...</td>\n",
       "      <td>Die älteste offizielle Karte Münchens bringt f...</td>\n",
       "      <td>Die älteste offizielle Karte Münchens bringt f...</td>\n",
       "      <td>Die älteste offizielle Karte Münchens bringt f...</td>\n",
       "    </tr>\n",
       "  </tbody>\n",
       "</table>\n",
       "</div>"
      ],
      "text/plain": [
       "                                                 src  \\\n",
       "0  Munich 1856: Four maps that will change your v...   \n",
       "1  A mental asylum, where today young people are ...   \n",
       "2  A crypt chapel, where they are now digging tun...   \n",
       "3  Allotment holders cultivate the soil of former...   \n",
       "4  The oldest official map of Munich brings capti...   \n",
       "\n",
       "                                                 ref  \\\n",
       "0  München 1856: Vier Karten, die Ihren Blick auf...   \n",
       "1  Eine Irren-Anstalt, wo sich heute Jugendliche ...   \n",
       "2  Eine Gruftkapelle, wo nun für den S-Bahn-Tunne...   \n",
       "3  Kleingärtner bewirtschaften den einstigen Grun...   \n",
       "4  Die älteste offizielle Karte Münchens fördert ...   \n",
       "\n",
       "                                   RWTH-UNSUPER.5484  \\\n",
       "0  München 1856: four maps, dass sich deine Sicht...   \n",
       "1  Eine seelische Asyl, wo heute junge Menschen z...   \n",
       "2  Eine Gruft Kapelle, wo Sie nun Tunnel für die ...   \n",
       "3  Parzelle Rück pflegen den Boden der ehemaligen...   \n",
       "4  Die älteste offizielle Landkarte des Münchner ...   \n",
       "\n",
       "                                          online-G.0  \\\n",
       "0  München 1856: Vier Karten, dass wird sich ände...   \n",
       "1  Eine Irrenanstalt, wo heute junge Menschen sin...   \n",
       "2  Eine Krypta, die Kapelle, wo Sie heute sind, d...   \n",
       "3  Zuteilung die Inhaber pflegen den Boden des eh...   \n",
       "4  Das älteste offizielle Stadtplan von München, ...   \n",
       "\n",
       "                                      LMU-unsup.5651  \\\n",
       "0  München 1856: Vier Landschaftspunkte zufolge w...   \n",
       "1  Ein Ressort Asyl, wo heute junge Menschen zu g...   \n",
       "2  Eine Krypt-Kapelle, wo sie Tunnelröhren Tunnel...   \n",
       "3  Allotungsvolle Versicherten pflegen die Pflanz...   \n",
       "4  Die älteste offizielle Landkarte von München b...   \n",
       "\n",
       "                                          online-F.0  \\\n",
       "0  München 1856: Vier Karten, die Ihre Ansicht de...   \n",
       "1  Ein Geistesasyl, in dem heute junge Leute gesa...   \n",
       "2  Eine Kryptakapelle, in der sie jetzt Tunnels f...   \n",
       "3  Zuteilungshalter kultivieren den Boden von ehe...   \n",
       "4  Die älteste offizielle Karte von München holt ...   \n",
       "\n",
       "                               Microsoft-Marian.5691  \\\n",
       "0  München 1856: Vier Karten, die Ihren Blick auf...   \n",
       "1  Ein psychisches Asyl, in dem sich heute Jugend...   \n",
       "2  Eine Krypta-Kapelle, wo sie jetzt Tunnel für d...   \n",
       "3  Zuteilungsbesitzer pflegen den Boden ehemalige...   \n",
       "4  Die älteste offizielle Karte Münchens bringt f...   \n",
       "\n",
       "                                          online-Z.0  \\\n",
       "0  München 1856: Vier Karten, die den Blick auf d...   \n",
       "1  Ein psychisches Asyl, in dem sich heute Jugend...   \n",
       "2  Eine Krypta-Kapelle, in der sie jetzt Tunnel f...   \n",
       "3  Kleingärtner bewirtschaften den Boden ehemalig...   \n",
       "4  Die älteste offizielle Karte Münchens bringt f...   \n",
       "\n",
       "                                        LMU-nmt.5741  \\\n",
       "0  München 1856: Vier Karten, die Ihre Sicht der ...   \n",
       "1  Ein mentales Asyl, wo heute Jugendliche zusamm...   \n",
       "2  Eine Krypt-Kapelle, in der sie nun Tunnel für ...   \n",
       "3  Kleinaktionäre pflegen den Boden der ehemalige...   \n",
       "4  Die älteste offizielle Landkarte von München b...   \n",
       "\n",
       "                                          online-Y.0  \\\n",
       "0  München 1856: Vier Karten, die Ihren Blick auf...   \n",
       "1  Ein psychisches Asyl, in dem heute junge Mensc...   \n",
       "2  Eine Krypta-Kapelle, wo sie nun Tunnel für die...   \n",
       "3  Allotmentinhaber kultivieren den Boden ehemali...   \n",
       "4  Die älteste offizielle Karte Münchens bringt s...   \n",
       "\n",
       "                          MMT-production-system.5594  \\\n",
       "0  München 1856: Vier Karten, die Ihren Blick auf...   \n",
       "1  Ein Irrenhaus, wo sich heute junge Menschen tr...   \n",
       "2  Eine Krypta-Kapelle, wo sie jetzt Tunnel für d...   \n",
       "3  Die Zuteilungsinhaber bewirtschaften den Boden...   \n",
       "4  Die älteste offizielle Münchner Landkarte brin...   \n",
       "\n",
       "                                          uedin.5770  \\\n",
       "0  München 1856: Vier Karten, die Ihre Sicht auf ...   \n",
       "1  Ein psychisches Asyl, in dem sich heute junge ...   \n",
       "2  Eine Krypta-Kapelle, wo sie jetzt Tunnel für d...   \n",
       "3   Almosenhalter pflegen den Boden früherer Bauern.   \n",
       "4  Die älteste offizielle Karte Münchens bringt f...   \n",
       "\n",
       "                                            JHU.5703  \\\n",
       "0  München 1856: Vier Karten, die Ihren Blick auf...   \n",
       "1  Ein psychisches Asyl, in dem sich heute junge ...   \n",
       "2  Eine Kryptokapelle, in der sie jetzt Tunnel fü...   \n",
       "3      Anlieger pflegen den Boden ehemaliger Bauern.   \n",
       "4  Die älteste offizielle Karte Münchens bringt f...   \n",
       "\n",
       "                                          online-A.0  \\\n",
       "0  München 1856: vier Karten, die ihren Blick auf...   \n",
       "1  Ein mentales Asyl, wo sich heute junge Mensche...   \n",
       "2  Eine Krypta Kapelle, wo Sie jetzt Graben Tunne...   \n",
       "3  Zuteilungs Inhaber kultivieren den Boden der e...   \n",
       "4  Die älteste Offizielle Karte von München bring...   \n",
       "\n",
       "                                           UCAM.5585  \\\n",
       "0  München 1856: Vier Karten, die Ihren Blick auf...   \n",
       "1  Ein psychisches Asyl, in dem sich heute Jugend...   \n",
       "2  Eine Krypta-Kapelle, in der sie jetzt Tunnel f...   \n",
       "3  Zuteilungsbesitzer bewirtschaften den Boden eh...   \n",
       "4  Die älteste offizielle Karte Münchens bringt f...   \n",
       "\n",
       "                                            NTT.5667  \\\n",
       "0  München 1856: Vier Karten, die Ihren Blick auf...   \n",
       "1  Ein psychisches Asyl, wo sich heute junge Mens...   \n",
       "2  Eine Krypta-Kapelle, wo sie jetzt Tunnel für d...   \n",
       "3  Zuweisungsberechtigte bewirtschaften den Boden...   \n",
       "4  Die älteste offizielle Karte Münchens bringt f...   \n",
       "\n",
       "                                          online-B.0  \\\n",
       "0  München 1856: Vier Karten, die Ihren Blick auf...   \n",
       "1  Eine Irrenanstalt, in der sich heute Jugendlic...   \n",
       "2  Eine Kryptenkapelle, in der jetzt Tunnel für d...   \n",
       "3  Kleingärtner kultivieren den Boden ehemaliger ...   \n",
       "4  Die älteste offizielle Karte Münchens bringt f...   \n",
       "\n",
       "                                            KIT.5486  \n",
       "0  München 1856: Vier Karten, die Ihre Sicht auf ...  \n",
       "1  Ein psychisches Asyl, wo sich heute Jugendlich...  \n",
       "2  Eine Krypta-Kapelle, in der sie jetzt Tunnel f...  \n",
       "3  Zuteilungsinhaber bewirtschaften den Boden ehe...  \n",
       "4  Die älteste offizielle Karte Münchens bringt f...  "
      ]
     },
     "execution_count": 12,
     "metadata": {},
     "output_type": "execute_result"
    }
   ],
   "source": [
    "en_de_data.head()"
   ]
  },
  {
   "cell_type": "markdown",
   "metadata": {},
   "source": [
    "## DA scores:"
   ]
  },
  {
   "cell_type": "code",
   "execution_count": 13,
   "metadata": {},
   "outputs": [],
   "source": [
    "DA_DATA = 'humaneval-seg-da/ad-seg-scores-{}.csv'"
   ]
  },
  {
   "cell_type": "code",
   "execution_count": 14,
   "metadata": {},
   "outputs": [],
   "source": [
    "def segment_level_da(path, lp):\n",
    "    with open(path, \"r\") as fp:\n",
    "        fp.readline()\n",
    "        lines = [l.strip() for l in fp.readlines()]\n",
    "    data = []\n",
    "    for line in lines:\n",
    "        sys, sid, raw_score, z, n = line.split()\n",
    "        data.append({\"system\": sys, \"SID\": sid, \"raw_score\": raw_score, \"z_score\": z, \"annotators\": n, \"lp\": lp})\n",
    "    return pd.DataFrame(data)"
   ]
  },
  {
   "cell_type": "code",
   "execution_count": 15,
   "metadata": {},
   "outputs": [],
   "source": [
    "en_de_da_data = segment_level_da(DA_DATA.format('en-de'), \"en-de\")"
   ]
  },
  {
   "cell_type": "code",
   "execution_count": 16,
   "metadata": {},
   "outputs": [
    {
     "data": {
      "text/html": [
       "<div>\n",
       "<style scoped>\n",
       "    .dataframe tbody tr th:only-of-type {\n",
       "        vertical-align: middle;\n",
       "    }\n",
       "\n",
       "    .dataframe tbody tr th {\n",
       "        vertical-align: top;\n",
       "    }\n",
       "\n",
       "    .dataframe thead th {\n",
       "        text-align: right;\n",
       "    }\n",
       "</style>\n",
       "<table border=\"1\" class=\"dataframe\">\n",
       "  <thead>\n",
       "    <tr style=\"text-align: right;\">\n",
       "      <th></th>\n",
       "      <th>system</th>\n",
       "      <th>SID</th>\n",
       "      <th>raw_score</th>\n",
       "      <th>z_score</th>\n",
       "      <th>annotators</th>\n",
       "      <th>lp</th>\n",
       "    </tr>\n",
       "  </thead>\n",
       "  <tbody>\n",
       "    <tr>\n",
       "      <th>0</th>\n",
       "      <td>uedin.5770</td>\n",
       "      <td>2710</td>\n",
       "      <td>99</td>\n",
       "      <td>0.706857265714831</td>\n",
       "      <td>1</td>\n",
       "      <td>en-de</td>\n",
       "    </tr>\n",
       "    <tr>\n",
       "      <th>1</th>\n",
       "      <td>uedin.5770</td>\n",
       "      <td>2121</td>\n",
       "      <td>84</td>\n",
       "      <td>-0.0835874173853562</td>\n",
       "      <td>1</td>\n",
       "      <td>en-de</td>\n",
       "    </tr>\n",
       "    <tr>\n",
       "      <th>2</th>\n",
       "      <td>uedin.5770</td>\n",
       "      <td>540</td>\n",
       "      <td>99</td>\n",
       "      <td>0.706857265714831</td>\n",
       "      <td>1</td>\n",
       "      <td>en-de</td>\n",
       "    </tr>\n",
       "    <tr>\n",
       "      <th>3</th>\n",
       "      <td>uedin.5770</td>\n",
       "      <td>1897</td>\n",
       "      <td>57</td>\n",
       "      <td>-1.50638784696569</td>\n",
       "      <td>1</td>\n",
       "      <td>en-de</td>\n",
       "    </tr>\n",
       "    <tr>\n",
       "      <th>4</th>\n",
       "      <td>uedin.5770</td>\n",
       "      <td>1564</td>\n",
       "      <td>94</td>\n",
       "      <td>1.05707678225646</td>\n",
       "      <td>2</td>\n",
       "      <td>en-de</td>\n",
       "    </tr>\n",
       "  </tbody>\n",
       "</table>\n",
       "</div>"
      ],
      "text/plain": [
       "       system   SID raw_score              z_score annotators     lp\n",
       "0  uedin.5770  2710        99    0.706857265714831          1  en-de\n",
       "1  uedin.5770  2121        84  -0.0835874173853562          1  en-de\n",
       "2  uedin.5770   540        99    0.706857265714831          1  en-de\n",
       "3  uedin.5770  1897        57    -1.50638784696569          1  en-de\n",
       "4  uedin.5770  1564        94     1.05707678225646          2  en-de"
      ]
     },
     "execution_count": 16,
     "metadata": {},
     "output_type": "execute_result"
    }
   ],
   "source": [
    "en_de_da_data.head()"
   ]
  },
  {
   "cell_type": "code",
   "execution_count": 24,
   "metadata": {},
   "outputs": [],
   "source": [
    "from tqdm.notebook import tqdm \n",
    "\n",
    "def merge_submissions_with_human_scores(submissions, human_scores):\n",
    "    \n",
    "    def system_in_submissions(system):\n",
    "        for col in submissions.columns:\n",
    "            if system in col:\n",
    "                return True\n",
    "            if col in system:\n",
    "                return True\n",
    "        return False\n",
    "    \n",
    "    lp, data, src, ref, hyp, raw_score, z_score, annotators = [], [], [], [], [], [], [], []\n",
    "    for i, row in tqdm(human_scores.iterrows(), total=len(human_scores), desc=list(human_scores.lp)[0]):\n",
    "        sub_row = submissions.iloc[int(row['SID'])-1] # segments have ids from 1 to 1997\n",
    "        \n",
    "        # Not all systems belong to the newstranslation shared task. Some belong\n",
    "        # to other shared tasks such as unsupervied MT.\n",
    "        \n",
    "        if system_in_submissions(row['system']):\n",
    "            system = row['system']\n",
    "            hyp.append(sub_row[system])\n",
    "            lp.append(row['lp'])\n",
    "            data.append('newstest2019')\n",
    "            src.append(sub_row['src'])\n",
    "            ref.append(sub_row['ref'])\n",
    "            raw_score.append(float(row['raw_score']))\n",
    "            z_score.append(float(row['z_score']))\n",
    "            annotators.append(int(row['annotators']))\n",
    "    \n",
    "    data = {\n",
    "        \"lp\": lp,\n",
    "        \"src\": src,\n",
    "        \"mt\": hyp,\n",
    "        \"ref\": ref,\n",
    "        \"score\": z_score,\n",
    "        \"raw_score\": raw_score,\n",
    "        \"annotators\": annotators\n",
    "    }\n",
    "    return pd.DataFrame(data)\n"
   ]
  },
  {
   "cell_type": "code",
   "execution_count": 18,
   "metadata": {},
   "outputs": [
    {
     "data": {
      "application/vnd.jupyter.widget-view+json": {
       "model_id": "b28e361695ef4547bc2c596e7a3cbbb2",
       "version_major": 2,
       "version_minor": 0
      },
      "text/plain": [
       "HBox(children=(FloatProgress(value=0.0, description='en-de', max=12383.0, style=ProgressStyle(description_widt…"
      ]
     },
     "metadata": {},
     "output_type": "display_data"
    },
    {
     "name": "stdout",
     "output_type": "stream",
     "text": [
      "\n"
     ]
    }
   ],
   "source": [
    "en_de_scores_merged = merge_submissions_with_human_scores(en_de_data, en_de_da_data)"
   ]
  },
  {
   "cell_type": "code",
   "execution_count": 19,
   "metadata": {},
   "outputs": [
    {
     "data": {
      "text/html": [
       "<div>\n",
       "<style scoped>\n",
       "    .dataframe tbody tr th:only-of-type {\n",
       "        vertical-align: middle;\n",
       "    }\n",
       "\n",
       "    .dataframe tbody tr th {\n",
       "        vertical-align: top;\n",
       "    }\n",
       "\n",
       "    .dataframe thead th {\n",
       "        text-align: right;\n",
       "    }\n",
       "</style>\n",
       "<table border=\"1\" class=\"dataframe\">\n",
       "  <thead>\n",
       "    <tr style=\"text-align: right;\">\n",
       "      <th></th>\n",
       "      <th>lp</th>\n",
       "      <th>src</th>\n",
       "      <th>mt</th>\n",
       "      <th>ref</th>\n",
       "      <th>score</th>\n",
       "      <th>raw_score</th>\n",
       "      <th>annotators</th>\n",
       "    </tr>\n",
       "  </thead>\n",
       "  <tbody>\n",
       "    <tr>\n",
       "      <th>0</th>\n",
       "      <td>en-de</td>\n",
       "      <td>He has teamed up with Dr Geoff Watson, a consu...</td>\n",
       "      <td>Er hat sich mit Dr. Geoff Watson, einem Berate...</td>\n",
       "      <td>Er hat sich mit Dr. Geoff Watson, einem berate...</td>\n",
       "      <td>0.706857</td>\n",
       "      <td>99.0</td>\n",
       "      <td>1</td>\n",
       "    </tr>\n",
       "    <tr>\n",
       "      <th>1</th>\n",
       "      <td>en-de</td>\n",
       "      <td>In my opinion, it would be better to support a...</td>\n",
       "      <td>Meiner Meinung nach wäre es besser, anstelle d...</td>\n",
       "      <td>Meiner Ansicht nach wäre es besser gewesen, ma...</td>\n",
       "      <td>-0.083587</td>\n",
       "      <td>84.0</td>\n",
       "      <td>1</td>\n",
       "    </tr>\n",
       "    <tr>\n",
       "      <th>2</th>\n",
       "      <td>en-de</td>\n",
       "      <td>Town authorities and the trade association are...</td>\n",
       "      <td>Stadtverwaltung und Gewerbeverein kooperieren ...</td>\n",
       "      <td>Stadtverwaltung und Gewerbeverein kooperieren ...</td>\n",
       "      <td>0.706857</td>\n",
       "      <td>99.0</td>\n",
       "      <td>1</td>\n",
       "    </tr>\n",
       "    <tr>\n",
       "      <th>3</th>\n",
       "      <td>en-de</td>\n",
       "      <td>\"In Mexico you die because they want to shut y...</td>\n",
       "      <td>\"In Mexiko stirbt man, weil sie dich verschlie...</td>\n",
       "      <td>\"In Mexiko stirbst du, weil sie möchten, dass ...</td>\n",
       "      <td>-1.506388</td>\n",
       "      <td>57.0</td>\n",
       "      <td>1</td>\n",
       "    </tr>\n",
       "    <tr>\n",
       "      <th>4</th>\n",
       "      <td>en-de</td>\n",
       "      <td>Well that does sound like a good approach.</td>\n",
       "      <td>Nun, das klingt nach einem guten Ansatz.</td>\n",
       "      <td>Das hört sich schon mal nach einem guten Ansat...</td>\n",
       "      <td>1.057077</td>\n",
       "      <td>94.0</td>\n",
       "      <td>2</td>\n",
       "    </tr>\n",
       "  </tbody>\n",
       "</table>\n",
       "</div>"
      ],
      "text/plain": [
       "      lp                                                src  \\\n",
       "0  en-de  He has teamed up with Dr Geoff Watson, a consu...   \n",
       "1  en-de  In my opinion, it would be better to support a...   \n",
       "2  en-de  Town authorities and the trade association are...   \n",
       "3  en-de  \"In Mexico you die because they want to shut y...   \n",
       "4  en-de         Well that does sound like a good approach.   \n",
       "\n",
       "                                                  mt  \\\n",
       "0  Er hat sich mit Dr. Geoff Watson, einem Berate...   \n",
       "1  Meiner Meinung nach wäre es besser, anstelle d...   \n",
       "2  Stadtverwaltung und Gewerbeverein kooperieren ...   \n",
       "3  \"In Mexiko stirbt man, weil sie dich verschlie...   \n",
       "4           Nun, das klingt nach einem guten Ansatz.   \n",
       "\n",
       "                                                 ref     score  raw_score  \\\n",
       "0  Er hat sich mit Dr. Geoff Watson, einem berate...  0.706857       99.0   \n",
       "1  Meiner Ansicht nach wäre es besser gewesen, ma... -0.083587       84.0   \n",
       "2  Stadtverwaltung und Gewerbeverein kooperieren ...  0.706857       99.0   \n",
       "3  \"In Mexiko stirbst du, weil sie möchten, dass ... -1.506388       57.0   \n",
       "4  Das hört sich schon mal nach einem guten Ansat...  1.057077       94.0   \n",
       "\n",
       "   annotators  \n",
       "0           1  \n",
       "1           1  \n",
       "2           1  \n",
       "3           1  \n",
       "4           2  "
      ]
     },
     "execution_count": 19,
     "metadata": {},
     "output_type": "execute_result"
    }
   ],
   "source": [
    "en_de_scores_merged.head()"
   ]
  },
  {
   "cell_type": "code",
   "execution_count": 20,
   "metadata": {},
   "outputs": [
    {
     "data": {
      "text/plain": [
       "(11982, 10208)"
      ]
     },
     "execution_count": 20,
     "metadata": {},
     "output_type": "execute_result"
    }
   ],
   "source": [
    "nd_en_de_scores_merged = en_de_scores_merged[~en_de_scores_merged.duplicated(['src', 'ref', 'mt', 'score'])]\n",
    "len(en_de_scores_merged), len(nd_en_de_scores_merged)"
   ]
  },
  {
   "cell_type": "markdown",
   "metadata": {},
   "source": [
    "## All Language Pairs:"
   ]
  },
  {
   "cell_type": "code",
   "execution_count": 21,
   "metadata": {},
   "outputs": [],
   "source": [
    "language_pairs = [\n",
    "    'zh-en', 'en-zh', 'cs-en',  \n",
    "    'fi-en', 'ru-en', 'tr-en', \n",
    "    'de-en', 'en-cs', 'en-de', \n",
    "    'en-et', 'en-fi', 'en-ru', \n",
    "    'en-tr', 'et-en'\n",
    "]"
   ]
  },
  {
   "cell_type": "code",
   "execution_count": 25,
   "metadata": {},
   "outputs": [
    {
     "data": {
      "application/vnd.jupyter.widget-view+json": {
       "model_id": "385562c9a59243df91908871d3b3ceb2",
       "version_major": 2,
       "version_minor": 0
      },
      "text/plain": [
       "HBox(children=(FloatProgress(value=0.0, description='zh-en', max=30800.0, style=ProgressStyle(description_widt…"
      ]
     },
     "metadata": {},
     "output_type": "display_data"
    },
    {
     "name": "stdout",
     "output_type": "stream",
     "text": [
      "\n",
      "LP zh-en - scores data size: 25352\n"
     ]
    },
    {
     "data": {
      "application/vnd.jupyter.widget-view+json": {
       "model_id": "13eae09817ad4fca81000d70c24eae96",
       "version_major": 2,
       "version_minor": 0
      },
      "text/plain": [
       "HBox(children=(FloatProgress(value=0.0, description='en-zh', max=27575.0, style=ProgressStyle(description_widt…"
      ]
     },
     "metadata": {},
     "output_type": "display_data"
    },
    {
     "name": "stdout",
     "output_type": "stream",
     "text": [
      "\n",
      "LP en-zh - scores data size: 22128\n"
     ]
    },
    {
     "data": {
      "application/vnd.jupyter.widget-view+json": {
       "model_id": "b094d3a0421142ddbdaf9208d6530678",
       "version_major": 2,
       "version_minor": 0
      },
      "text/plain": [
       "HBox(children=(FloatProgress(value=0.0, description='cs-en', max=10122.0, style=ProgressStyle(description_widt…"
      ]
     },
     "metadata": {},
     "output_type": "display_data"
    },
    {
     "name": "stdout",
     "output_type": "stream",
     "text": [
      "\n",
      "LP cs-en - scores data size: 8732\n"
     ]
    },
    {
     "data": {
      "application/vnd.jupyter.widget-view+json": {
       "model_id": "25fa936c751440a7819fd4c1d33f2d57",
       "version_major": 2,
       "version_minor": 0
      },
      "text/plain": [
       "HBox(children=(FloatProgress(value=0.0, description='fi-en', max=17606.0, style=ProgressStyle(description_widt…"
      ]
     },
     "metadata": {},
     "output_type": "display_data"
    },
    {
     "name": "stdout",
     "output_type": "stream",
     "text": [
      "\n",
      "LP fi-en - scores data size: 14965\n"
     ]
    },
    {
     "data": {
      "application/vnd.jupyter.widget-view+json": {
       "model_id": "a4a9256ff6f540f49aa713322bd4f3ba",
       "version_major": 2,
       "version_minor": 0
      },
      "text/plain": [
       "HBox(children=(FloatProgress(value=0.0, description='ru-en', max=15720.0, style=ProgressStyle(description_widt…"
      ]
     },
     "metadata": {},
     "output_type": "display_data"
    },
    {
     "name": "stdout",
     "output_type": "stream",
     "text": [
      "\n",
      "LP ru-en - scores data size: 13157\n"
     ]
    },
    {
     "data": {
      "application/vnd.jupyter.widget-view+json": {
       "model_id": "817bf57f30324a99a70a87ce81c685d0",
       "version_major": 2,
       "version_minor": 0
      },
      "text/plain": [
       "HBox(children=(FloatProgress(value=0.0, description='tr-en', max=14926.0, style=ProgressStyle(description_widt…"
      ]
     },
     "metadata": {},
     "output_type": "display_data"
    },
    {
     "name": "stdout",
     "output_type": "stream",
     "text": [
      "\n",
      "LP tr-en - scores data size: 12851\n"
     ]
    },
    {
     "data": {
      "application/vnd.jupyter.widget-view+json": {
       "model_id": "99b75348d84440b89dca8f7b42a92345",
       "version_major": 2,
       "version_minor": 0
      },
      "text/plain": [
       "HBox(children=(FloatProgress(value=0.0, description='de-en', max=36330.0, style=ProgressStyle(description_widt…"
      ]
     },
     "metadata": {},
     "output_type": "display_data"
    },
    {
     "name": "stdout",
     "output_type": "stream",
     "text": [
      "\n",
      "LP de-en - scores data size: 28404\n"
     ]
    },
    {
     "data": {
      "application/vnd.jupyter.widget-view+json": {
       "model_id": "dd97c97cbc0b431987b234544995261f",
       "version_major": 2,
       "version_minor": 0
      },
      "text/plain": [
       "HBox(children=(FloatProgress(value=0.0, description='en-cs', max=8244.0, style=ProgressStyle(description_width…"
      ]
     },
     "metadata": {},
     "output_type": "display_data"
    },
    {
     "name": "stdout",
     "output_type": "stream",
     "text": [
      "\n",
      "LP en-cs - scores data size: 7629\n"
     ]
    },
    {
     "data": {
      "application/vnd.jupyter.widget-view+json": {
       "model_id": "1fc9d41ed40744d7bafcecdfb8c7c008",
       "version_major": 2,
       "version_minor": 0
      },
      "text/plain": [
       "HBox(children=(FloatProgress(value=0.0, description='en-de', max=12383.0, style=ProgressStyle(description_widt…"
      ]
     },
     "metadata": {},
     "output_type": "display_data"
    },
    {
     "name": "stdout",
     "output_type": "stream",
     "text": [
      "\n",
      "LP en-de - scores data size: 10208\n"
     ]
    },
    {
     "data": {
      "application/vnd.jupyter.widget-view+json": {
       "model_id": "bb8290132dea45138659e1fa2387df60",
       "version_major": 2,
       "version_minor": 0
      },
      "text/plain": [
       "HBox(children=(FloatProgress(value=0.0, description='en-et', max=14269.0, style=ProgressStyle(description_widt…"
      ]
     },
     "metadata": {},
     "output_type": "display_data"
    },
    {
     "name": "stdout",
     "output_type": "stream",
     "text": [
      "\n",
      "LP en-et - scores data size: 13376\n"
     ]
    },
    {
     "data": {
      "application/vnd.jupyter.widget-view+json": {
       "model_id": "cc9d3891b44c490890696eb9348cf3e2",
       "version_major": 2,
       "version_minor": 0
      },
      "text/plain": [
       "HBox(children=(FloatProgress(value=0.0, description='en-fi', max=9013.0, style=ProgressStyle(description_width…"
      ]
     },
     "metadata": {},
     "output_type": "display_data"
    },
    {
     "name": "stdout",
     "output_type": "stream",
     "text": [
      "\n",
      "LP en-fi - scores data size: 8097\n"
     ]
    },
    {
     "data": {
      "application/vnd.jupyter.widget-view+json": {
       "model_id": "e3ba719765bc4eb4aed3aa7eb4704087",
       "version_major": 2,
       "version_minor": 0
      },
      "text/plain": [
       "HBox(children=(FloatProgress(value=0.0, description='en-ru', max=19803.0, style=ProgressStyle(description_widt…"
      ]
     },
     "metadata": {},
     "output_type": "display_data"
    },
    {
     "name": "stdout",
     "output_type": "stream",
     "text": [
      "\n",
      "LP en-ru - scores data size: 16748\n"
     ]
    },
    {
     "data": {
      "application/vnd.jupyter.widget-view+json": {
       "model_id": "60047c6477d5444d9cd9fb0bb9cdbb2a",
       "version_major": 2,
       "version_minor": 0
      },
      "text/plain": [
       "HBox(children=(FloatProgress(value=0.0, description='en-tr', max=3548.0, style=ProgressStyle(description_width…"
      ]
     },
     "metadata": {},
     "output_type": "display_data"
    },
    {
     "name": "stdout",
     "output_type": "stream",
     "text": [
      "\n",
      "LP en-tr - scores data size: 3132\n"
     ]
    },
    {
     "data": {
      "application/vnd.jupyter.widget-view+json": {
       "model_id": "dc4ff66dc7384a07b0514470806e8663",
       "version_major": 2,
       "version_minor": 0
      },
      "text/plain": [
       "HBox(children=(FloatProgress(value=0.0, description='et-en', max=23998.0, style=ProgressStyle(description_widt…"
      ]
     },
     "metadata": {},
     "output_type": "display_data"
    },
    {
     "name": "stdout",
     "output_type": "stream",
     "text": [
      "\n",
      "LP et-en - scores data size: 20496\n"
     ]
    }
   ],
   "source": [
    "for language_pair in language_pairs:\n",
    "    try:\n",
    "        os.makedirs(language_pair)\n",
    "    except FileExistsError:\n",
    "        pass\n",
    "    src, trg = language_pair.split('-')\n",
    "    lp, lp1 = src + '-' + trg, src + trg\n",
    "    \n",
    "    sources = [line.strip() for line in open(SRC_PREFIX+f'newstest2018-{lp1}-src.{src}')]\n",
    "    references = [line.strip() for line in open(REF_PREFIX+f'newstest2018-{lp1}-ref.{trg}')]\n",
    "    \n",
    "    sys_outputs_files = os.listdir(SYS_PREFIX+f'{lp}/')\n",
    "    systems = ['.'.join(submission_name.split('.')[1:-1]) for submission_name in sys_outputs_files]\n",
    "    \n",
    "    lp_data = pd.DataFrame({'src': sources, 'ref': references, **get_system_outputs(lp)})\n",
    "    \n",
    "    da_data = segment_level_da(DA_DATA.format(language_pair), language_pair)\n",
    "    \n",
    "    merged = merge_submissions_with_human_scores(lp_data, da_data)\n",
    "    merged = merged[~merged.duplicated(['src', 'ref', 'mt', 'score'])]\n",
    "    print (\"LP {} - scores data size: {}\".format(language_pair, len(merged)))\n",
    "    merged.to_csv(f'{lp}/scores.csv', index=False)"
   ]
  },
  {
   "cell_type": "markdown",
   "metadata": {},
   "source": [
    "## Relative Ranks:"
   ]
  },
  {
   "cell_type": "markdown",
   "metadata": {},
   "source": [
    "The relative-ranks file is not correctly formatted. Please correct the file by replacing the first line by `LP DATA SID BETTER WORSE`."
   ]
  },
  {
   "cell_type": "code",
   "execution_count": 36,
   "metadata": {},
   "outputs": [],
   "source": [
    "rr_data = pd.read_csv('wmt18-metrics-task-package/manual-evaluation/RR-seglevel.csv', delimiter=' ')"
   ]
  },
  {
   "cell_type": "code",
   "execution_count": 37,
   "metadata": {},
   "outputs": [
    {
     "data": {
      "text/html": [
       "<div>\n",
       "<style scoped>\n",
       "    .dataframe tbody tr th:only-of-type {\n",
       "        vertical-align: middle;\n",
       "    }\n",
       "\n",
       "    .dataframe tbody tr th {\n",
       "        vertical-align: top;\n",
       "    }\n",
       "\n",
       "    .dataframe thead th {\n",
       "        text-align: right;\n",
       "    }\n",
       "</style>\n",
       "<table border=\"1\" class=\"dataframe\">\n",
       "  <thead>\n",
       "    <tr style=\"text-align: right;\">\n",
       "      <th></th>\n",
       "      <th>LP</th>\n",
       "      <th>DATA</th>\n",
       "      <th>SID</th>\n",
       "      <th>BETTER</th>\n",
       "      <th>WORSE</th>\n",
       "    </tr>\n",
       "  </thead>\n",
       "  <tbody>\n",
       "    <tr>\n",
       "      <th>0</th>\n",
       "      <td>cs-en</td>\n",
       "      <td>newstest2018</td>\n",
       "      <td>593</td>\n",
       "      <td>CUNI-Transformer.5560</td>\n",
       "      <td>online-B.0</td>\n",
       "    </tr>\n",
       "    <tr>\n",
       "      <th>1</th>\n",
       "      <td>cs-en</td>\n",
       "      <td>newstest2018</td>\n",
       "      <td>344</td>\n",
       "      <td>CUNI-Transformer.5560</td>\n",
       "      <td>online-B.0</td>\n",
       "    </tr>\n",
       "    <tr>\n",
       "      <th>2</th>\n",
       "      <td>cs-en</td>\n",
       "      <td>newstest2018</td>\n",
       "      <td>345</td>\n",
       "      <td>online-G.0</td>\n",
       "      <td>CUNI-Transformer.5560</td>\n",
       "    </tr>\n",
       "    <tr>\n",
       "      <th>3</th>\n",
       "      <td>cs-en</td>\n",
       "      <td>newstest2018</td>\n",
       "      <td>346</td>\n",
       "      <td>uedin.5561</td>\n",
       "      <td>online-A.0</td>\n",
       "    </tr>\n",
       "    <tr>\n",
       "      <th>4</th>\n",
       "      <td>cs-en</td>\n",
       "      <td>newstest2018</td>\n",
       "      <td>342</td>\n",
       "      <td>online-B.0</td>\n",
       "      <td>CUNI-Transformer.5560</td>\n",
       "    </tr>\n",
       "    <tr>\n",
       "      <th>...</th>\n",
       "      <td>...</td>\n",
       "      <td>...</td>\n",
       "      <td>...</td>\n",
       "      <td>...</td>\n",
       "      <td>...</td>\n",
       "    </tr>\n",
       "    <tr>\n",
       "      <th>326847</th>\n",
       "      <td>en-zh</td>\n",
       "      <td>newstest2018</td>\n",
       "      <td>1369</td>\n",
       "      <td>UMD.5680</td>\n",
       "      <td>online-F.0</td>\n",
       "    </tr>\n",
       "    <tr>\n",
       "      <th>326848</th>\n",
       "      <td>en-zh</td>\n",
       "      <td>newstest2018</td>\n",
       "      <td>1369</td>\n",
       "      <td>Alibaba-ensemble-system-with-reranking.5738</td>\n",
       "      <td>online-F.0</td>\n",
       "    </tr>\n",
       "    <tr>\n",
       "      <th>326849</th>\n",
       "      <td>en-zh</td>\n",
       "      <td>newstest2018</td>\n",
       "      <td>1369</td>\n",
       "      <td>Alibaba-ensemble-system-with-reranking.5738</td>\n",
       "      <td>Tencent-ensemble-system.5760</td>\n",
       "    </tr>\n",
       "    <tr>\n",
       "      <th>326850</th>\n",
       "      <td>en-zh</td>\n",
       "      <td>newstest2018</td>\n",
       "      <td>1369</td>\n",
       "      <td>Alibaba-ensemble-system-with-reranking.5738</td>\n",
       "      <td>Alibaba-General-System.5743</td>\n",
       "    </tr>\n",
       "    <tr>\n",
       "      <th>326851</th>\n",
       "      <td>en-zh</td>\n",
       "      <td>newstest2018</td>\n",
       "      <td>1369</td>\n",
       "      <td>Alibaba-ensemble-system-with-reranking.5738</td>\n",
       "      <td>Alibaba-General-System.5749</td>\n",
       "    </tr>\n",
       "  </tbody>\n",
       "</table>\n",
       "<p>326852 rows × 5 columns</p>\n",
       "</div>"
      ],
      "text/plain": [
       "           LP          DATA   SID  \\\n",
       "0       cs-en  newstest2018   593   \n",
       "1       cs-en  newstest2018   344   \n",
       "2       cs-en  newstest2018   345   \n",
       "3       cs-en  newstest2018   346   \n",
       "4       cs-en  newstest2018   342   \n",
       "...       ...           ...   ...   \n",
       "326847  en-zh  newstest2018  1369   \n",
       "326848  en-zh  newstest2018  1369   \n",
       "326849  en-zh  newstest2018  1369   \n",
       "326850  en-zh  newstest2018  1369   \n",
       "326851  en-zh  newstest2018  1369   \n",
       "\n",
       "                                             BETTER  \\\n",
       "0                             CUNI-Transformer.5560   \n",
       "1                             CUNI-Transformer.5560   \n",
       "2                                        online-G.0   \n",
       "3                                        uedin.5561   \n",
       "4                                        online-B.0   \n",
       "...                                             ...   \n",
       "326847                                     UMD.5680   \n",
       "326848  Alibaba-ensemble-system-with-reranking.5738   \n",
       "326849  Alibaba-ensemble-system-with-reranking.5738   \n",
       "326850  Alibaba-ensemble-system-with-reranking.5738   \n",
       "326851  Alibaba-ensemble-system-with-reranking.5738   \n",
       "\n",
       "                               WORSE  \n",
       "0                         online-B.0  \n",
       "1                         online-B.0  \n",
       "2              CUNI-Transformer.5560  \n",
       "3                         online-A.0  \n",
       "4              CUNI-Transformer.5560  \n",
       "...                              ...  \n",
       "326847                    online-F.0  \n",
       "326848                    online-F.0  \n",
       "326849  Tencent-ensemble-system.5760  \n",
       "326850   Alibaba-General-System.5743  \n",
       "326851   Alibaba-General-System.5749  \n",
       "\n",
       "[326852 rows x 5 columns]"
      ]
     },
     "execution_count": 37,
     "metadata": {},
     "output_type": "execute_result"
    }
   ],
   "source": [
    "rr_data"
   ]
  },
  {
   "cell_type": "code",
   "execution_count": 38,
   "metadata": {},
   "outputs": [
    {
     "data": {
      "text/html": [
       "<div>\n",
       "<style scoped>\n",
       "    .dataframe tbody tr th:only-of-type {\n",
       "        vertical-align: middle;\n",
       "    }\n",
       "\n",
       "    .dataframe tbody tr th {\n",
       "        vertical-align: top;\n",
       "    }\n",
       "\n",
       "    .dataframe thead th {\n",
       "        text-align: right;\n",
       "    }\n",
       "</style>\n",
       "<table border=\"1\" class=\"dataframe\">\n",
       "  <thead>\n",
       "    <tr style=\"text-align: right;\">\n",
       "      <th></th>\n",
       "      <th>LP</th>\n",
       "      <th>DATA</th>\n",
       "      <th>SID</th>\n",
       "      <th>BETTER</th>\n",
       "      <th>WORSE</th>\n",
       "    </tr>\n",
       "  </thead>\n",
       "  <tbody>\n",
       "    <tr>\n",
       "      <th>212989</th>\n",
       "      <td>en-de</td>\n",
       "      <td>newstest2018</td>\n",
       "      <td>593</td>\n",
       "      <td>MMT-production-system.5594</td>\n",
       "      <td>RWTH-UNSUPER.5484</td>\n",
       "    </tr>\n",
       "    <tr>\n",
       "      <th>212990</th>\n",
       "      <td>en-de</td>\n",
       "      <td>newstest2018</td>\n",
       "      <td>593</td>\n",
       "      <td>online-Y.0</td>\n",
       "      <td>RWTH-UNSUPER.5484</td>\n",
       "    </tr>\n",
       "    <tr>\n",
       "      <th>212991</th>\n",
       "      <td>en-de</td>\n",
       "      <td>newstest2018</td>\n",
       "      <td>592</td>\n",
       "      <td>KIT.5486</td>\n",
       "      <td>JHU.5703</td>\n",
       "    </tr>\n",
       "    <tr>\n",
       "      <th>212992</th>\n",
       "      <td>en-de</td>\n",
       "      <td>newstest2018</td>\n",
       "      <td>592</td>\n",
       "      <td>JHU.5703</td>\n",
       "      <td>LMU-unsup.5651</td>\n",
       "    </tr>\n",
       "    <tr>\n",
       "      <th>212993</th>\n",
       "      <td>en-de</td>\n",
       "      <td>newstest2018</td>\n",
       "      <td>592</td>\n",
       "      <td>KIT.5486</td>\n",
       "      <td>LMU-unsup.5651</td>\n",
       "    </tr>\n",
       "  </tbody>\n",
       "</table>\n",
       "</div>"
      ],
      "text/plain": [
       "           LP          DATA  SID                      BETTER  \\\n",
       "212989  en-de  newstest2018  593  MMT-production-system.5594   \n",
       "212990  en-de  newstest2018  593                  online-Y.0   \n",
       "212991  en-de  newstest2018  592                    KIT.5486   \n",
       "212992  en-de  newstest2018  592                    JHU.5703   \n",
       "212993  en-de  newstest2018  592                    KIT.5486   \n",
       "\n",
       "                    WORSE  \n",
       "212989  RWTH-UNSUPER.5484  \n",
       "212990  RWTH-UNSUPER.5484  \n",
       "212991           JHU.5703  \n",
       "212992     LMU-unsup.5651  \n",
       "212993     LMU-unsup.5651  "
      ]
     },
     "execution_count": 38,
     "metadata": {},
     "output_type": "execute_result"
    }
   ],
   "source": [
    "en_de_rr_data = rr_data[rr_data['LP'] == 'en-de']\n",
    "en_de_rr_data.head()"
   ]
  },
  {
   "cell_type": "code",
   "execution_count": 39,
   "metadata": {},
   "outputs": [],
   "source": [
    "from tqdm.notebook import tqdm \n",
    "\n",
    "def merge_submissions_with_RR(submissions, rr_data):\n",
    "    \n",
    "    def system_in_submissions(system):\n",
    "        for col in submissions.columns:\n",
    "            if system in col:\n",
    "                return True\n",
    "            if col in system:\n",
    "                return True\n",
    "        return False\n",
    "    \n",
    "    lp, data, model1, model2, src, ref, hyp1, hyp2, bestmodel = [], [], [], [], [], [], [], [], []\n",
    "    for i, row in tqdm(rr_data.iterrows(), total=len(rr_data), desc=list(rr_data.LP)[0]):\n",
    "        sub_row = submissions.iloc[row['SID']-1] # segments have ids from 1 to 1997\n",
    "        \n",
    "        # Not all systems belong to the newstranslation shared task. Some belong\n",
    "        # to other shared tasks such as unsupervied MT.\n",
    "        if system_in_submissions(row['BETTER']) and system_in_submissions(row['WORSE']):\n",
    "            better_sys = row['BETTER']\n",
    "            worse_sys = row['WORSE']\n",
    "            \n",
    "            hyp1.append(sub_row[better_sys])\n",
    "            hyp2.append(sub_row[worse_sys])\n",
    "            lp.append(row['LP'])\n",
    "            data.append('newstest2019')\n",
    "            src.append(sub_row['src'])\n",
    "            ref.append(sub_row['ref'])\n",
    "            model1.append(better_sys)\n",
    "            model2.append(worse_sys)\n",
    "            bestmodel.append(better_sys)\n",
    "    \n",
    "    data = {\n",
    "        \"data\": data,\n",
    "        \"lp\": lp,\n",
    "        \"src\": src,\n",
    "        \"ref\": ref,\n",
    "        \"pos\": hyp1,\n",
    "        \"neg\": hyp2,\n",
    "        \"pos.model\": model1,\n",
    "        \"neg.model\": model2,\n",
    "        \"bestmodel\": bestmodel\n",
    "    }\n",
    "    return pd.DataFrame(data)"
   ]
  },
  {
   "cell_type": "code",
   "execution_count": 40,
   "metadata": {},
   "outputs": [
    {
     "data": {
      "application/vnd.jupyter.widget-view+json": {
       "model_id": "fb276788a0bb4040ba789604bbf88be4",
       "version_major": 2,
       "version_minor": 0
      },
      "text/plain": [
       "HBox(children=(FloatProgress(value=0.0, description='en-de', max=19711.0, style=ProgressStyle(description_widt…"
      ]
     },
     "metadata": {},
     "output_type": "display_data"
    },
    {
     "name": "stdout",
     "output_type": "stream",
     "text": [
      "\n"
     ]
    }
   ],
   "source": [
    "merged = merge_submissions_with_RR(en_de_data, en_de_rr_data)"
   ]
  },
  {
   "cell_type": "code",
   "execution_count": 41,
   "metadata": {},
   "outputs": [
    {
     "data": {
      "text/html": [
       "<div>\n",
       "<style scoped>\n",
       "    .dataframe tbody tr th:only-of-type {\n",
       "        vertical-align: middle;\n",
       "    }\n",
       "\n",
       "    .dataframe tbody tr th {\n",
       "        vertical-align: top;\n",
       "    }\n",
       "\n",
       "    .dataframe thead th {\n",
       "        text-align: right;\n",
       "    }\n",
       "</style>\n",
       "<table border=\"1\" class=\"dataframe\">\n",
       "  <thead>\n",
       "    <tr style=\"text-align: right;\">\n",
       "      <th></th>\n",
       "      <th>data</th>\n",
       "      <th>lp</th>\n",
       "      <th>src</th>\n",
       "      <th>ref</th>\n",
       "      <th>pos</th>\n",
       "      <th>neg</th>\n",
       "      <th>pos.model</th>\n",
       "      <th>neg.model</th>\n",
       "      <th>bestmodel</th>\n",
       "    </tr>\n",
       "  </thead>\n",
       "  <tbody>\n",
       "    <tr>\n",
       "      <th>0</th>\n",
       "      <td>newstest2019</td>\n",
       "      <td>en-de</td>\n",
       "      <td>In April 1946, a Supreme Court ruling enabled ...</td>\n",
       "      <td>Im April 1946 ermöglichte eine Entscheidung de...</td>\n",
       "      <td>Im April 1946 ermöglichte ein Urteil des Obers...</td>\n",
       "      <td>Im April 1946 ermöglichte eine oberste Gericht...</td>\n",
       "      <td>MMT-production-system.5594</td>\n",
       "      <td>RWTH-UNSUPER.5484</td>\n",
       "      <td>MMT-production-system.5594</td>\n",
       "    </tr>\n",
       "    <tr>\n",
       "      <th>1</th>\n",
       "      <td>newstest2019</td>\n",
       "      <td>en-de</td>\n",
       "      <td>In April 1946, a Supreme Court ruling enabled ...</td>\n",
       "      <td>Im April 1946 ermöglichte eine Entscheidung de...</td>\n",
       "      <td>Im April 1946 ermöglichte ein Urteil des Obers...</td>\n",
       "      <td>Im April 1946 ermöglichte eine oberste Gericht...</td>\n",
       "      <td>online-Y.0</td>\n",
       "      <td>RWTH-UNSUPER.5484</td>\n",
       "      <td>online-Y.0</td>\n",
       "    </tr>\n",
       "    <tr>\n",
       "      <th>2</th>\n",
       "      <td>newstest2019</td>\n",
       "      <td>en-de</td>\n",
       "      <td>Though the suspects have remained at large for...</td>\n",
       "      <td>Obwohl die Verdächtigen seit Jahrzehnten auf f...</td>\n",
       "      <td>Obwohl die Verdächtigen jahrzehntelang auf fre...</td>\n",
       "      <td>Obwohl die Verdächtigen über Jahrzehnte auf fr...</td>\n",
       "      <td>KIT.5486</td>\n",
       "      <td>JHU.5703</td>\n",
       "      <td>KIT.5486</td>\n",
       "    </tr>\n",
       "    <tr>\n",
       "      <th>3</th>\n",
       "      <td>newstest2019</td>\n",
       "      <td>en-de</td>\n",
       "      <td>Though the suspects have remained at large for...</td>\n",
       "      <td>Obwohl die Verdächtigen seit Jahrzehnten auf f...</td>\n",
       "      <td>Obwohl die Verdächtigen über Jahrzehnte auf fr...</td>\n",
       "      <td>Obwohl die Verdächtigen am Beteiligung für Jah...</td>\n",
       "      <td>JHU.5703</td>\n",
       "      <td>LMU-unsup.5651</td>\n",
       "      <td>JHU.5703</td>\n",
       "    </tr>\n",
       "    <tr>\n",
       "      <th>4</th>\n",
       "      <td>newstest2019</td>\n",
       "      <td>en-de</td>\n",
       "      <td>Though the suspects have remained at large for...</td>\n",
       "      <td>Obwohl die Verdächtigen seit Jahrzehnten auf f...</td>\n",
       "      <td>Obwohl die Verdächtigen jahrzehntelang auf fre...</td>\n",
       "      <td>Obwohl die Verdächtigen am Beteiligung für Jah...</td>\n",
       "      <td>KIT.5486</td>\n",
       "      <td>LMU-unsup.5651</td>\n",
       "      <td>KIT.5486</td>\n",
       "    </tr>\n",
       "  </tbody>\n",
       "</table>\n",
       "</div>"
      ],
      "text/plain": [
       "           data     lp                                                src  \\\n",
       "0  newstest2019  en-de  In April 1946, a Supreme Court ruling enabled ...   \n",
       "1  newstest2019  en-de  In April 1946, a Supreme Court ruling enabled ...   \n",
       "2  newstest2019  en-de  Though the suspects have remained at large for...   \n",
       "3  newstest2019  en-de  Though the suspects have remained at large for...   \n",
       "4  newstest2019  en-de  Though the suspects have remained at large for...   \n",
       "\n",
       "                                                 ref  \\\n",
       "0  Im April 1946 ermöglichte eine Entscheidung de...   \n",
       "1  Im April 1946 ermöglichte eine Entscheidung de...   \n",
       "2  Obwohl die Verdächtigen seit Jahrzehnten auf f...   \n",
       "3  Obwohl die Verdächtigen seit Jahrzehnten auf f...   \n",
       "4  Obwohl die Verdächtigen seit Jahrzehnten auf f...   \n",
       "\n",
       "                                                 pos  \\\n",
       "0  Im April 1946 ermöglichte ein Urteil des Obers...   \n",
       "1  Im April 1946 ermöglichte ein Urteil des Obers...   \n",
       "2  Obwohl die Verdächtigen jahrzehntelang auf fre...   \n",
       "3  Obwohl die Verdächtigen über Jahrzehnte auf fr...   \n",
       "4  Obwohl die Verdächtigen jahrzehntelang auf fre...   \n",
       "\n",
       "                                                 neg  \\\n",
       "0  Im April 1946 ermöglichte eine oberste Gericht...   \n",
       "1  Im April 1946 ermöglichte eine oberste Gericht...   \n",
       "2  Obwohl die Verdächtigen über Jahrzehnte auf fr...   \n",
       "3  Obwohl die Verdächtigen am Beteiligung für Jah...   \n",
       "4  Obwohl die Verdächtigen am Beteiligung für Jah...   \n",
       "\n",
       "                    pos.model          neg.model                   bestmodel  \n",
       "0  MMT-production-system.5594  RWTH-UNSUPER.5484  MMT-production-system.5594  \n",
       "1                  online-Y.0  RWTH-UNSUPER.5484                  online-Y.0  \n",
       "2                    KIT.5486           JHU.5703                    KIT.5486  \n",
       "3                    JHU.5703     LMU-unsup.5651                    JHU.5703  \n",
       "4                    KIT.5486     LMU-unsup.5651                    KIT.5486  "
      ]
     },
     "execution_count": 41,
     "metadata": {},
     "output_type": "execute_result"
    }
   ],
   "source": [
    "merged.head()"
   ]
  },
  {
   "cell_type": "markdown",
   "metadata": {},
   "source": [
    "## All Languages:"
   ]
  },
  {
   "cell_type": "code",
   "execution_count": 42,
   "metadata": {},
   "outputs": [],
   "source": [
    "language_pairs = [\n",
    "    'zh-en', 'en-zh', 'cs-en',  \n",
    "    'fi-en', 'ru-en', 'tr-en', \n",
    "    'de-en', 'en-cs', 'en-de', \n",
    "    'en-et', 'en-fi', 'en-ru', \n",
    "    'en-tr', 'et-en'\n",
    "]"
   ]
  },
  {
   "cell_type": "code",
   "execution_count": 43,
   "metadata": {},
   "outputs": [
    {
     "data": {
      "application/vnd.jupyter.widget-view+json": {
       "model_id": "8a16fd368ca944c69c7ce54261c0d56a",
       "version_major": 2,
       "version_minor": 0
      },
      "text/plain": [
       "HBox(children=(FloatProgress(value=0.0, description='zh-en', max=33357.0, style=ProgressStyle(description_widt…"
      ]
     },
     "metadata": {},
     "output_type": "display_data"
    },
    {
     "name": "stdout",
     "output_type": "stream",
     "text": [
      "\n"
     ]
    },
    {
     "data": {
      "application/vnd.jupyter.widget-view+json": {
       "model_id": "ac1c6230199644adabb6005200007b41",
       "version_major": 2,
       "version_minor": 0
      },
      "text/plain": [
       "HBox(children=(FloatProgress(value=0.0, description='en-zh', max=28602.0, style=ProgressStyle(description_widt…"
      ]
     },
     "metadata": {},
     "output_type": "display_data"
    },
    {
     "name": "stdout",
     "output_type": "stream",
     "text": [
      "\n"
     ]
    },
    {
     "data": {
      "application/vnd.jupyter.widget-view+json": {
       "model_id": "b4cf776404f9421a842ccb986302e102",
       "version_major": 2,
       "version_minor": 0
      },
      "text/plain": [
       "HBox(children=(FloatProgress(value=0.0, description='cs-en', max=5110.0, style=ProgressStyle(description_width…"
      ]
     },
     "metadata": {},
     "output_type": "display_data"
    },
    {
     "name": "stdout",
     "output_type": "stream",
     "text": [
      "\n"
     ]
    },
    {
     "data": {
      "application/vnd.jupyter.widget-view+json": {
       "model_id": "8b77f6a7033c40e8ac50b82e181fa8ea",
       "version_major": 2,
       "version_minor": 0
      },
      "text/plain": [
       "HBox(children=(FloatProgress(value=0.0, description='fi-en', max=15648.0, style=ProgressStyle(description_widt…"
      ]
     },
     "metadata": {},
     "output_type": "display_data"
    },
    {
     "name": "stdout",
     "output_type": "stream",
     "text": [
      "\n"
     ]
    },
    {
     "data": {
      "application/vnd.jupyter.widget-view+json": {
       "model_id": "21f1c434b6d748ea89cb701bec909209",
       "version_major": 2,
       "version_minor": 0
      },
      "text/plain": [
       "HBox(children=(FloatProgress(value=0.0, description='ru-en', max=10404.0, style=ProgressStyle(description_widt…"
      ]
     },
     "metadata": {},
     "output_type": "display_data"
    },
    {
     "name": "stdout",
     "output_type": "stream",
     "text": [
      "\n"
     ]
    },
    {
     "data": {
      "application/vnd.jupyter.widget-view+json": {
       "model_id": "e897cc7fd2f4488daa585d792397089f",
       "version_major": 2,
       "version_minor": 0
      },
      "text/plain": [
       "HBox(children=(FloatProgress(value=0.0, description='tr-en', max=8525.0, style=ProgressStyle(description_width…"
      ]
     },
     "metadata": {},
     "output_type": "display_data"
    },
    {
     "name": "stdout",
     "output_type": "stream",
     "text": [
      "\n"
     ]
    },
    {
     "data": {
      "application/vnd.jupyter.widget-view+json": {
       "model_id": "5033da691e9547e9b563284f2f9a6e7e",
       "version_major": 2,
       "version_minor": 0
      },
      "text/plain": [
       "HBox(children=(FloatProgress(value=0.0, description='de-en', max=77811.0, style=ProgressStyle(description_widt…"
      ]
     },
     "metadata": {},
     "output_type": "display_data"
    },
    {
     "name": "stdout",
     "output_type": "stream",
     "text": [
      "\n"
     ]
    },
    {
     "data": {
      "application/vnd.jupyter.widget-view+json": {
       "model_id": "8221c2b77dac436c9ec379723684c2cc",
       "version_major": 2,
       "version_minor": 0
      },
      "text/plain": [
       "HBox(children=(FloatProgress(value=0.0, description='en-cs', max=5413.0, style=ProgressStyle(description_width…"
      ]
     },
     "metadata": {},
     "output_type": "display_data"
    },
    {
     "name": "stdout",
     "output_type": "stream",
     "text": [
      "\n"
     ]
    },
    {
     "data": {
      "application/vnd.jupyter.widget-view+json": {
       "model_id": "54cc7930f55e478f8461d5846e90af59",
       "version_major": 2,
       "version_minor": 0
      },
      "text/plain": [
       "HBox(children=(FloatProgress(value=0.0, description='en-de', max=19711.0, style=ProgressStyle(description_widt…"
      ]
     },
     "metadata": {},
     "output_type": "display_data"
    },
    {
     "name": "stdout",
     "output_type": "stream",
     "text": [
      "\n"
     ]
    },
    {
     "data": {
      "application/vnd.jupyter.widget-view+json": {
       "model_id": "88c63b8cc4ef40b0ad76f3c80e92b350",
       "version_major": 2,
       "version_minor": 0
      },
      "text/plain": [
       "HBox(children=(FloatProgress(value=0.0, description='en-et', max=32202.0, style=ProgressStyle(description_widt…"
      ]
     },
     "metadata": {},
     "output_type": "display_data"
    },
    {
     "name": "stdout",
     "output_type": "stream",
     "text": [
      "\n"
     ]
    },
    {
     "data": {
      "application/vnd.jupyter.widget-view+json": {
       "model_id": "1b817e9908f5446b9fd86763d564c1cc",
       "version_major": 2,
       "version_minor": 0
      },
      "text/plain": [
       "HBox(children=(FloatProgress(value=0.0, description='en-fi', max=9809.0, style=ProgressStyle(description_width…"
      ]
     },
     "metadata": {},
     "output_type": "display_data"
    },
    {
     "name": "stdout",
     "output_type": "stream",
     "text": [
      "\n"
     ]
    },
    {
     "data": {
      "application/vnd.jupyter.widget-view+json": {
       "model_id": "77cdcb52b26649b39204e42ae8d1985d",
       "version_major": 2,
       "version_minor": 0
      },
      "text/plain": [
       "HBox(children=(FloatProgress(value=0.0, description='en-ru', max=22181.0, style=ProgressStyle(description_widt…"
      ]
     },
     "metadata": {},
     "output_type": "display_data"
    },
    {
     "name": "stdout",
     "output_type": "stream",
     "text": [
      "\n"
     ]
    },
    {
     "data": {
      "application/vnd.jupyter.widget-view+json": {
       "model_id": "3ccfea6fde4b4629822cc22341b389cb",
       "version_major": 2,
       "version_minor": 0
      },
      "text/plain": [
       "HBox(children=(FloatProgress(value=0.0, description='en-tr', max=1358.0, style=ProgressStyle(description_width…"
      ]
     },
     "metadata": {},
     "output_type": "display_data"
    },
    {
     "name": "stdout",
     "output_type": "stream",
     "text": [
      "\n"
     ]
    },
    {
     "data": {
      "application/vnd.jupyter.widget-view+json": {
       "model_id": "723720ebf04144e2aff63720334b25a4",
       "version_major": 2,
       "version_minor": 0
      },
      "text/plain": [
       "HBox(children=(FloatProgress(value=0.0, description='et-en', max=56721.0, style=ProgressStyle(description_widt…"
      ]
     },
     "metadata": {},
     "output_type": "display_data"
    },
    {
     "name": "stdout",
     "output_type": "stream",
     "text": [
      "\n"
     ]
    }
   ],
   "source": [
    "rr_data = pd.read_csv('wmt18-metrics-task-package/manual-evaluation/RR-seglevel.csv', delimiter=' ')\n",
    "\n",
    "for language_pair in language_pairs:\n",
    "    try:\n",
    "        os.makedirs(language_pair)\n",
    "    except FileExistsError:\n",
    "        pass\n",
    "    src, trg = language_pair.split('-')\n",
    "    lp, lp1 = src + '-' + trg, src + trg\n",
    "    \n",
    "    sources = [line.strip() for line in open(SRC_PREFIX+f'newstest2018-{lp1}-src.{src}')]\n",
    "    references = [line.strip() for line in open(REF_PREFIX+f'newstest2018-{lp1}-ref.{trg}')]\n",
    "    \n",
    "    sys_outputs_files = os.listdir(SYS_PREFIX+f'{lp}/')\n",
    "    systems = ['.'.join(submission_name.split('.')[1:-1]) for submission_name in sys_outputs_files]\n",
    "    \n",
    "    lp_data = pd.DataFrame({'src': sources, 'ref': references, **get_system_outputs(lp)})\n",
    "    lp_rr_data = rr_data[rr_data['LP'] == lp]\n",
    "    \n",
    "    merged = merge_submissions_with_RR(lp_data, lp_rr_data)\n",
    "    # print (\"LP {} - daRR size: {}\".format(list(lp_rr_data.LP)[0], len(merged)))\n",
    "    merged.to_csv(f'{lp}/relative-ranks.csv', index=False)"
   ]
  },
  {
   "cell_type": "markdown",
   "metadata": {},
   "source": [
    "## Multilingual Corpus:"
   ]
  },
  {
   "cell_type": "code",
   "execution_count": 47,
   "metadata": {},
   "outputs": [
    {
     "data": {
      "application/vnd.jupyter.widget-view+json": {
       "model_id": "b0170bb2cd6d467bb9750a073b8d9efa",
       "version_major": 2,
       "version_minor": 0
      },
      "text/plain": [
       "HBox(children=(FloatProgress(value=0.0, max=14.0), HTML(value='')))"
      ]
     },
     "metadata": {},
     "output_type": "display_data"
    },
    {
     "name": "stdout",
     "output_type": "stream",
     "text": [
      "\n"
     ]
    }
   ],
   "source": [
    "from sklearn.model_selection import train_test_split\n",
    "\n",
    "all_scores_train, all_scores_test = [], []\n",
    "all_rr_train, all_rr_test = [], []\n",
    "\n",
    "all_rr, all_scores = [], []\n",
    "for lp in tqdm(language_pairs):\n",
    "    # Relative Ranks\n",
    "    rr_data = pd.read_csv(f'{lp}/relative-ranks.csv')\n",
    "    all_rr.append(rr_data)\n",
    "    \n",
    "    train_rr, test_rr = train_test_split(rr_data, test_size=0.2, random_state=42, shuffle=True)\n",
    "    all_rr_train.append(train_rr)\n",
    "    all_rr_test.append(test_rr)\n",
    "    \n",
    "    # DA scores\n",
    "    scores_data = pd.read_csv(f'{lp}/scores.csv')\n",
    "    all_scores.append(scores_data)\n",
    "    \n",
    "    train_scores, test_scores = train_test_split(scores_data, test_size=1000, random_state=42, shuffle=True)\n",
    "    all_scores_train.append(train_scores)\n",
    "    all_scores_test.append(test_scores)\n",
    "\n",
    "# Relative-Ranks \n",
    "all_rr = pd.concat(all_rr, ignore_index=True)\n",
    "rr_train = pd.concat(all_rr_train, ignore_index=True)\n",
    "rr_test = pd.concat(all_rr_test, ignore_index=True)\n",
    "\n",
    "# Scores \n",
    "all_scores = pd.concat(all_scores, ignore_index=True)\n",
    "scores_train = pd.concat(all_scores_train, ignore_index=True)\n",
    "scores_test = pd.concat(all_scores_test, ignore_index=True)"
   ]
  },
  {
   "cell_type": "code",
   "execution_count": 48,
   "metadata": {},
   "outputs": [],
   "source": [
    "all_rr.to_csv('relative-ranks.csv', index=False)\n",
    "rr_train.to_csv('train-relative-ranks.csv', index=False)\n",
    "rr_test.to_csv('test-relative-ranks.csv', index=False)"
   ]
  },
  {
   "cell_type": "code",
   "execution_count": 49,
   "metadata": {},
   "outputs": [],
   "source": [
    "all_scores.to_csv('scores.csv', index=False)\n",
    "scores_train.to_csv('train_scores.csv', index=False)\n",
    "scores_test.to_csv('test_scores.csv', index=False)"
   ]
  }
 ],
 "metadata": {
  "kernelspec": {
   "display_name": "Python 3",
   "language": "python",
   "name": "python3"
  },
  "language_info": {
   "codemirror_mode": {
    "name": "ipython",
    "version": 3
   },
   "file_extension": ".py",
   "mimetype": "text/x-python",
   "name": "python",
   "nbconvert_exporter": "python",
   "pygments_lexer": "ipython3",
   "version": "3.6.6"
  }
 },
 "nbformat": 4,
 "nbformat_minor": 4
}
